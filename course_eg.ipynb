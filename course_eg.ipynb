{
 "cells": [
  {
   "cell_type": "code",
   "execution_count": 2,
   "metadata": {
    "metadata": {}
   },
   "outputs": [
    {
     "name": "stdout",
     "output_type": "stream",
     "text": [
      "Greatest num is 10\n"
     ]
    }
   ],
   "source": [
    "# Using Conditional statements\n",
    "num1 = int(input(\"first number: \"))\n",
    "num2 = int(input(\"second number: \"))\n",
    "num3 = int(input(\"third number: \"))\n",
    "if num1 >= num2 and num1 >= num3:\n",
    "        print(\"Greatest num is\",num1)\n",
    "elif num2 >= num1 and num2 >= num3:\n",
    "         print(\"Greatest num is\",num2)\n",
    "else:\n",
    "          print(\"Greatest num is\",num3)\n",
    "\n",
    "\n",
    "\n",
    "\n",
    "\n"
   ]
  },
  {
   "cell_type": "code",
   "execution_count": 1,
   "metadata": {
    "metadata": {}
   },
   "outputs": [
    {
     "name": "stdout",
     "output_type": "stream",
     "text": [
      "The factorial of 5 is 120\n"
     ]
    }
   ],
   "source": [
    "#using functions\n",
    "def fact(n):  \n",
    "   if n == 1:  \n",
    "       return n  \n",
    "   else:  \n",
    "       return n*fact(n-1)  \n",
    "\n",
    "num = int(input(\"Enter a number: \"))  \n",
    "\n",
    "if num < 0:  \n",
    "   print(\"factorial does not exist for negative numbers\")  \n",
    "elif num == 0:  \n",
    "   print(\"The factorial of 0 is 1\")  \n",
    "else:  \n",
    "   print(\"The factorial of\",num,\"is\",fact(num))  "
   ]
  },
  {
   "cell_type": "code",
   "execution_count": 4,
   "metadata": {
    "metadata": {}
   },
   "outputs": [
    {
     "name": "stdout",
     "output_type": "stream",
     "text": [
      "Original List: [2, 4, 55, 10, 13]\n",
      "Sorted List [2, 4, 10, 13, 55]\n"
     ]
    }
   ],
   "source": [
    "#using looping statements\n",
    "\n",
    "\n",
    "l1 = []\n",
    "n = int(input(\"enter number of elements required: \"))\n",
    "\n",
    "for i in range(0, n):\n",
    "    element = int(input())  \n",
    "    l1.append(element)\n",
    "print(\"Original List:\", l1)\n",
    " \n",
    "for i in range(0, len(l1)):\n",
    "  for j in range(i+1, len(l1)):\n",
    "    if l1[i] >= l1[j]:\n",
    "      l1[i], l1[j] = l1[j], l1[i]\n",
    "print(\"Sorted List\", l1)"
   ]
  }
 ],
 "metadata": {
  "kernelspec": {
   "display_name": "Python 3",
   "language": "python",
   "name": "python3"
  },
  "language_info": {
   "codemirror_mode": {
    "name": "ipython",
    "version": 3
   },
   "file_extension": ".py",
   "mimetype": "text/x-python",
   "name": "python",
   "nbconvert_exporter": "python",
   "pygments_lexer": "ipython3",
   "version": "3.11.9"
  }
 },
 "nbformat": 4,
 "nbformat_minor": 2
}
